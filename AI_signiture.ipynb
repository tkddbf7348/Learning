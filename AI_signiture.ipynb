{
  "nbformat": 4,
  "nbformat_minor": 0,
  "metadata": {
    "accelerator": "TPU",
    "colab": {
      "name": "AI_signiture.ipynb",
      "provenance": [],
      "collapsed_sections": []
    },
    "kernelspec": {
      "display_name": "Python 3",
      "name": "python3"
    }
  },
  "cells": [
    {
      "cell_type": "code",
      "metadata": {
        "id": "U-C1L-81H9au"
      },
      "source": [
        "cd '/content/drive/MyDrive/Colab Notebooks/AI/AILecture/Final'"
      ],
      "execution_count": null,
      "outputs": []
    },
    {
      "cell_type": "code",
      "metadata": {
        "id": "pFV6_8X0-MX4"
      },
      "source": [
        "###########################################################\n",
        "###prof.sample\n",
        "# handsign.py\n",
        "# Code written by prof. Won-Du Chang @PKNU, Rep. Korea\n",
        "# All rights are reserved to the Author. (chang@pknu.ac.kr)\n",
        "\n",
        "import numpy as np\n",
        "import os\n",
        "#각 데이터의 길이를 체크하고 최대길이 확인\n",
        "def getMaxLen(folderpath_train, folderpath_test):\n",
        "    nMaxLen = 0\n",
        "    for filename in os.listdir(folderpath_train):\n",
        "        filepath = f'{folderpath_train}/{filename}'\n",
        "        d, tmp = load_aSig(filepath)\n",
        "        if d.shape[0] > nMaxLen:\n",
        "            nMaxLen = d.shape[0]\n",
        "\n",
        "    for filename in os.listdir(folderpath_test):\n",
        "        filepath = f'{folderpath_test}/{filename}'\n",
        "        d, tmp = load_aSig(filepath)\n",
        "        if d.shape[0] > nMaxLen:\n",
        "            nMaxLen = d.shape[0]\n",
        "\n",
        "    return nMaxLen\n",
        "\n",
        "#학습용 데이터 load\n",
        "def load_aSig(filepath):\n",
        "    f = open(filepath,'rt')\n",
        "    nPoints = int(f.readline())\n",
        "    d = np.zeros((nPoints,2))\n",
        "    for i in range(nPoints):\n",
        "        line = f.readline()\n",
        "        toks = line.split(' ')\n",
        "        d[i,:] = [int(toks[0]), int(toks[1])]\n",
        "    f.close()\n",
        "    return d, nPoints\n",
        "\n",
        "#테스트용 데이터 load\n",
        "def load_data(folderpath,nMaxLen, sig_ids):\n",
        "    filelist = os.listdir(folderpath)\n",
        "    nFiles = len(filelist)\n",
        "    d = np.zeros((nFiles,nMaxLen,2))\n",
        "    len_sign = np.zeros(nFiles)\n",
        "\n",
        "    for i in sig_ids:\n",
        "        filepath = f'{folderpath}/{i}.TXT'\n",
        "        d_tmp, len_sign[i-sig_ids[0]] = load_aSig(filepath)\n",
        "        d[i-sig_ids[0],:d_tmp.shape[0],:] = d_tmp\n",
        "    return d, len_sign\n"
      ],
      "execution_count": null,
      "outputs": []
    },
    {
      "cell_type": "code",
      "metadata": {
        "id": "gOivjUaDIx9e"
      },
      "source": [
        "###########################################################\n",
        "###prof.sample\n",
        "# student_sample.py\n",
        "# Code written by prof. Won-Du Chang @PKNU, Rep. Korea\n",
        "# All rights are reserved to the Author. (chang@pknu.ac.kr)\n",
        "#import handsign as sign\n",
        "import pandas as pd\n",
        "import numpy as np\n",
        "from tensorflow import keras\n",
        "from tensorflow.keras.layers import *\n",
        "from tensorflow.keras import Sequential\n",
        "from tensorflow.keras.optimizers import Adam\n",
        "from sklearn.model_selection import train_test_split\n",
        "from tensorflow.keras.models import Sequential\n",
        "from tensorflow.keras.models import load_model\n",
        "from tensorflow.keras.layers import Dropout, Activation, Dense\n",
        "from tensorflow.keras.layers import Flatten, Convolution2D, MaxPooling2D\n",
        "#데이터 폴더 지정\n",
        "folderpath_train = './Train'   #학습용 데이터\n",
        "folderpath_test = './Test'     #테스트용 데이터\n",
        "filepath_train_info = './info/train_info.csv'   #정답 데이터\n",
        "\n",
        "#데이터 읽어오기\n",
        "nMaxLen = getMaxLen(folderpath_train, folderpath_test) #각 데이터의 길이를 체크하고 최대길이 확인\n",
        "x_train, x_train_len = load_data(folderpath_train,nMaxLen, range(800))     #학습용 데이터 load\n",
        "x_test, x_test_len  = load_data(folderpath_test,nMaxLen, range(800,1600))  #테스트용 데이터 load\n",
        "\n",
        "#학습용 데이터 변환\n",
        "y_train_pd = pd.read_csv(filepath_train_info)\n",
        "y_train = np.array(y_train_pd['bGenuine'])\n",
        "y_train_cat = keras.utils.to_categorical(y_train)\n"
      ],
      "execution_count": null,
      "outputs": []
    },
    {
      "cell_type": "code",
      "metadata": {
        "id": "GQj3WXHl9Yk8",
        "colab": {
          "base_uri": "https://localhost:8080/"
        },
        "outputId": "16c4f92f-6398-4974-d3cb-ce67a0b12f68"
      },
      "source": [
        "#signature 보기\n",
        "import matplotlib.pyplot as plt\n",
        "plt.scatter(x_train[100, :, 0],x_train[100, :, 1])\n",
        "#x_train[0, :, 0] : [0번째 사인, 모든 점, x 좌표]\n",
        "#x_train[0, :, 1] : [0번째 사인, 모든 점, y 좌표]"
      ],
      "execution_count": null,
      "outputs": [
        {
          "output_type": "execute_result",
          "data": {
            "text/plain": [
              "<matplotlib.collections.PathCollection at 0x7ff070b9bc18>"
            ]
          },
          "metadata": {
            "tags": []
          },
          "execution_count": 4
        },
        {
          "output_type": "display_data",
          "data": {
            "image/png": "[encoded data removed]",
            "text/plain": [
              "<Figure size 432x288 with 1 Axes>"
            ]
          },
          "metadata": {
            "tags": [],
            "needs_background": "light"
          }
        }
      ]
    },
    {
      "cell_type": "code",
      "metadata": {
        "id": "5ClEucot9YzA",
        "colab": {
          "base_uri": "https://localhost:8080/"
        },
        "outputId": "0efc4f13-29a9-450a-add4-ea5e0909b982"
      },
      "source": [
        "#x_train = x_train.reshape(800, 40, 40, -1)\n",
        "x_train = np.expand_dims(x_train, -1)\n",
        "x_train.shape"
      ],
      "execution_count": null,
      "outputs": [
        {
          "output_type": "execute_result",
          "data": {
            "text/plain": [
              "(800, 793, 2, 1)"
            ]
          },
          "metadata": {
            "tags": []
          },
          "execution_count": 5
        }
      ]
    },
    {
      "cell_type": "code",
      "metadata": {
        "id": "bl36-ok0VRpS"
      },
      "source": [
        "import os, re, glob\n",
        "model = Sequential()\n",
        "model.add(Convolution2D(16, 3, 3, padding='same', activation='relu', input_shape=x_train.shape[1:]))\n",
        "model.add(MaxPooling2D(pool_size=(3,3)))\n",
        "model.add(Dropout(0.25))\n",
        "  \n",
        "model.add(Convolution2D(64, 3, 3,  activation='relu'))\n",
        "model.add(MaxPooling2D(pool_size=(3,3)))\n",
        "model.add(Dropout(0.25))\n",
        " \n",
        "model.add(Convolution2D(64, 3, 3))\n",
        "model.add(MaxPooling2D(pool_size=(3,3)))\n",
        "model.add(Dropout(0.25))\n",
        "  \n",
        "model.add(Flatten())\n",
        "model.add(Dense(256, activation = 'relu'))\n",
        "model.add(Dropout(0.5))\n",
        "model.add(Dense(2,activation = 'softmax'))\n",
        "  \n",
        "model.compile(loss='binary_crossentropy',optimizer='Adam',metrics=['accuracy'])\n",
        "model.fit(x_train, y_train_cat, batch_size=32, nb_epoch=100)\n",
        "\n",
        "model.save('flowers.h5')"
      ],
      "execution_count": null,
      "outputs": []
    },
    {
      "cell_type": "code",
      "metadata": {
        "id": "QbQQeTsoVR7H"
      },
      "source": [
        "# x_train = np.append(x_train, x_test, axis=0)\n",
        "# y_train_cat = np.append(y_train_cat, Y_test, axis=0)\n",
        "\n",
        "# Save Model with CheckPoint & StopPoint\n",
        "from keras.callbacks import ModelCheckpoint,EarlyStopping\n",
        "import os\n",
        "import datetime\n",
        " \n",
        "Datetime = datetime.datetime.now().strftime('%m%d_%H%M')\n",
        "modelpath=\"signature.h5\"\n",
        " \n",
        "checkpointer = ModelCheckpoint(filepath=modelpath, monitor='loss', verbose=1, save_best_only=True)\n",
        "early_stopping_callback = EarlyStopping(monitor='loss', patience=50)\n",
        " \n",
        "# Learning and save models\n",
        "model.fit(x_train, y_train_cat, validation_split=0.1, epochs=3500, batch_size=10, verbose=0, callbacks=[early_stopping_callback,checkpointer])"
      ],
      "execution_count": null,
      "outputs": []
    },
    {
      "cell_type": "code",
      "metadata": {
        "id": "7N7VEDAfVVUV"
      },
      "source": [
        "model.summary()"
      ],
      "execution_count": null,
      "outputs": []
    },
    {
      "cell_type": "code",
      "metadata": {
        "id": "g00qFqPtVWjQ"
      },
      "source": [
        "#loss값 확인\n",
        "import matplotlib.pyplot as plt\n",
        "fig, loss_ax = plt.subplots()\n",
        "loss_ax.plot(hist.history['loss'], 'b', label='train loss')\n",
        "loss_ax.plot(hist.history['val_loss'], 'r', label='test loss')\n",
        "loss_ax.set_xlabel('epoch')\n",
        "loss_ax.set_ylabel('loss')\n",
        "\n",
        "loss_ax.legend(loc='upper right')\n",
        "plt.show()"
      ],
      "execution_count": null,
      "outputs": []
    },
    {
      "cell_type": "code",
      "metadata": {
        "id": "KyNvo0BqVWwZ"
      },
      "source": [
        "#accuracy값 확인\n",
        "import matplotlib.pyplot as plt\n",
        "fig, loss_ax = plt.subplots()\n",
        "loss_ax.plot(hist.history['accuracy'], 'b', label='train accuracy')\n",
        "loss_ax.plot(hist.history['val_accuracy'], 'r', label='test accuracy')\n",
        "\n",
        "loss_ax.set_xlabel('epoch')\n",
        "loss_ax.set_ylabel('accuracy')\n",
        "\n",
        "loss_ax.legend(loc='upper right')\n",
        "plt.show()"
      ],
      "execution_count": null,
      "outputs": []
    },
    {
      "cell_type": "code",
      "metadata": {
        "id": "mW4bJIjiVW_a"
      },
      "source": [
        "#제출용 파일 작성\n",
        "o = model.predict(x_test)\n",
        "o[:,0] = range(800,1600)\n",
        "o_df = pd.DataFrame(o,columns=['id','predicted'])\n",
        "o_df['id'] = o_df['id'].astype(int)\n",
        "o_df.to_csv('./result/output28.csv',index=None)"
      ],
      "execution_count": null,
      "outputs": []
    },
    {
      "cell_type": "code",
      "metadata": {
        "id": "gBtMdzSoVXJF"
      },
      "source": [
        ""
      ],
      "execution_count": null,
      "outputs": []
    }
  ]
}